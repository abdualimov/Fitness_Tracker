{
 "cells": [
  {
   "cell_type": "code",
   "execution_count": 11,
   "metadata": {},
   "outputs": [],
   "source": [
    "import pandas as pd\n",
    "import numpy as np\n",
    "import statistics\n",
    "from datetime import datetime, timedelta"
   ]
  },
  {
   "cell_type": "code",
   "execution_count": 8,
   "metadata": {},
   "outputs": [],
   "source": [
    "#создаем период дат. Месяц. В сутках интервалы 5 минут.\n",
    "range1 = pd.date_range('2019-11-01', '2019-12-01', freq='5min')\n",
    "#переводим в дата фрейм с датами-индексами\n",
    "df = pd.DataFrame(index = range1)\n",
    "#добавляем рандомное количество шагов за 5 минут\n",
    "df['shagi'] = np.random.randint(low=0, high=35, size=len(df.index))\n",
    "#суммируем за сутки шаги\n",
    "df1 = df.resample('1d').sum()\n",
    "#добавляем тестовое пропущенное значение\n",
    "df1.iloc[3] = None"
   ]
  },
  {
   "cell_type": "markdown",
   "metadata": {},
   "source": [
    "# Описание работы\n",
    "Мы узнаем прошел ли пользователь больше шагов чем обычно или нет. Уточним что такое \"обычно\". Найдем медиану шагов до вводимой даты. Определим прошел меньше медианы или нет."
   ]
  },
  {
   "cell_type": "code",
   "execution_count": 15,
   "metadata": {},
   "outputs": [
    {
     "name": "stdout",
     "output_type": "stream",
     "text": [
      "Введите дату с 2019-11-01 по 2019-12-01 в формате YYYY-mm-dd:2019-11-06\n",
      "Ты прошел больше обычного. Так держать!\n"
     ]
    }
   ],
   "source": [
    "spisokshagov = []\n",
    "vvoddati = input('Введите дату с 2019-11-01 по 2019-12-01 в формате YYYY-mm-dd:')\n",
    "for i in df1.index:\n",
    "    if i.strftime('%Y-%m-%d') == vvoddati:\n",
    "        skolkoshagovsdelal = df1.loc[i][0]\n",
    "        break\n",
    "    if pd.isna(df1.loc[i][0]) == True:\n",
    "        continue\n",
    "    spisokshagov += [df1.loc[i][0]]\n",
    "if statistics.median(spisokshagov) > skolkoshagovsdelal or pd.isna(skolkoshagovsdelal) == True:\n",
    "    print('Ты прошел меньше обычного.')\n",
    "else:\n",
    "    print('Ты прошел больше обычного. Так держать!')"
   ]
  },
  {
   "cell_type": "code",
   "execution_count": null,
   "metadata": {},
   "outputs": [],
   "source": []
  },
  {
   "cell_type": "code",
   "execution_count": null,
   "metadata": {},
   "outputs": [],
   "source": []
  },
  {
   "cell_type": "code",
   "execution_count": null,
   "metadata": {},
   "outputs": [],
   "source": []
  },
  {
   "cell_type": "code",
   "execution_count": null,
   "metadata": {},
   "outputs": [],
   "source": []
  }
 ],
 "metadata": {
  "kernelspec": {
   "display_name": "Python 3",
   "language": "python",
   "name": "python3"
  },
  "language_info": {
   "codemirror_mode": {
    "name": "ipython",
    "version": 3
   },
   "file_extension": ".py",
   "mimetype": "text/x-python",
   "name": "python",
   "nbconvert_exporter": "python",
   "pygments_lexer": "ipython3",
   "version": "3.7.4"
  }
 },
 "nbformat": 4,
 "nbformat_minor": 2
}
